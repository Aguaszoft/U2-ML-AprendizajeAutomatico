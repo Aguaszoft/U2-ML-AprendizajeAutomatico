{
 "cells": [
  {
   "cell_type": "markdown",
   "id": "24aa2e53",
   "metadata": {},
   "source": [
    "# Tipos de Aprendizaje en Machine Learning\n",
    "\n",
    "En el aprendizaje automático, existen varios tipos de aprendizaje que se diferencian en cómo el modelo aprende a partir de los datos.\n",
    "Este cuaderno describe brevemente cada tipo y proporciona ejemplos simples en Python.\n"
   ]
  },
  {
   "cell_type": "markdown",
   "id": "7d6f1570",
   "metadata": {},
   "source": [
    "## 1. Aprendizaje Supervisado\n",
    "\n",
    "En el aprendizaje supervisado, el modelo se entrena con datos etiquetados. El objetivo es aprender una función que mapee una entrada a una salida conocida.\n",
    "\n",
    "**Ejemplo: Regresión Lineal** (Predecir ventas en función del gasto en publicidad)\n"
   ]
  },
  {
   "cell_type": "code",
   "execution_count": null,
   "id": "9403c63b",
   "metadata": {},
   "outputs": [],
   "source": [
    "import numpy as np\n",
    "import matplotlib.pyplot as plt\n",
    "from sklearn.linear_model import LinearRegression\n",
    "from sklearn.model_selection import train_test_split\n",
    "\n",
    "# Datos de ejemplo: Gasto en publicidad (X) y Ventas (y)\n",
    "X = np.array([5, 10, 15, 20, 25, 30, 35, 40]).reshape(-1, 1)\n",
    "y = np.array([7, 12, 14, 18, 22, 24, 30, 32])\n",
    "\n",
    "# Dividir los datos en conjuntos de entrenamiento y prueba\n",
    "X_train, X_test, y_train, y_test = train_test_split(X, y, test_size=0.2, random_state=42)\n",
    "\n",
    "# Crear el modelo de regresión lineal\n",
    "regression_model = LinearRegression()\n",
    "regression_model.fit(X_train, y_train)\n",
    "\n",
    "# Predecir para los datos de prueba\n",
    "y_pred = regression_model.predict(X_test)\n",
    "\n",
    "# Visualizar los resultados\n",
    "plt.scatter(X, y, color='blue')  # Datos originales\n",
    "plt.plot(X, regression_model.predict(X), color='red')  # Línea de regresión\n",
    "plt.title('Regresión Lineal: Gasto en Publicidad vs Ventas')\n",
    "plt.xlabel('Gasto en Publicidad')\n",
    "plt.ylabel('Ventas')\n",
    "plt.show()"
   ]
  },
  {
   "cell_type": "markdown",
   "id": "9cd09483",
   "metadata": {},
   "source": [
    "## 2. Aprendizaje No Supervisado\n",
    "\n",
    "En el aprendizaje no supervisado, el modelo trata de encontrar patrones ocultos en los datos que no están etiquetados.\n",
    "\n",
    "**Ejemplo: Agrupamiento con K-means** (Agrupar puntos de datos en clusters)\n"
   ]
  },
  {
   "cell_type": "code",
   "execution_count": null,
   "id": "154bb86f",
   "metadata": {},
   "outputs": [],
   "source": [
    "from sklearn.cluster import KMeans\n",
    "from sklearn.datasets import make_blobs\n",
    "\n",
    "# Crear datos sintéticos para agrupamiento\n",
    "X, _ = make_blobs(n_samples=300, centers=4, cluster_std=0.60, random_state=0)\n",
    "\n",
    "# Crear el modelo K-means con 4 clusters\n",
    "kmeans = KMeans(n_clusters=4)\n",
    "kmeans.fit(X)\n",
    "\n",
    "# Predecir los clusters\n",
    "y_kmeans = kmeans.predict(X)\n",
    "\n",
    "# Visualizar los clusters\n",
    "plt.scatter(X[:, 0], X[:, 1], c=y_kmeans, s=50, cmap='viridis')\n",
    "centros = kmeans.cluster_centers_\n",
    "plt.scatter(centros[:, 0], centros[:, 1], c='red', s=200, alpha=0.75)\n",
    "plt.title('Agrupamiento con K-means')\n",
    "plt.show()"
   ]
  },
  {
   "cell_type": "markdown",
   "id": "c19c2ad2",
   "metadata": {},
   "source": [
    "## 3. Aprendizaje Semi-Supervisado\n",
    "\n",
    "El aprendizaje semi-supervisado combina una pequeña cantidad de datos etiquetados con una gran cantidad de datos no etiquetados.\n",
    "\n",
    "**Ejemplo**: No se proporciona un ejemplo de código específico, pero en la práctica, puede implicar el uso de modelos supervisados junto con técnicas no supervisadas para mejorar el rendimiento en escenarios con datos escasos.\n"
   ]
  },
  {
   "cell_type": "markdown",
   "id": "b6d73c52",
   "metadata": {},
   "source": [
    "## 4. Aprendizaje por Refuerzo\n",
    "\n",
    "En el aprendizaje por refuerzo, el modelo aprende tomando acciones y recibiendo retroalimentación en forma de recompensas o castigos.\n",
    "\n",
    "**Ejemplo**: No se proporciona un ejemplo de código específico en este cuaderno, pero el aprendizaje por refuerzo se aplica en tareas como los juegos, la robótica, y sistemas de recomendación en línea.\n"
   ]
  }
 ],
 "metadata": {},
 "nbformat": 4,
 "nbformat_minor": 5
}
